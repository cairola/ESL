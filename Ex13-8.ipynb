{
 "cells": [
  {
   "cell_type": "code",
   "execution_count": 1,
   "metadata": {},
   "outputs": [],
   "source": [
    "### EXERCISE 13.8\n",
    "### Generate data in two classes, with two features. These features\n",
    "### are all independent Gaussian variates with standard deviation 1. Their\n",
    "### mean vectors are (−1,−1) in class 1 and (1, 1) in class 2. To each feature\n",
    "### vector apply a random rotation of angle θ, θ chosen uniformly from 0 to\n",
    "### 2π. Generate 50 observations from each class to form the training set, and\n",
    "### 500 in each class as the test set. Apply\n",
    "\n",
    "# Setup \n",
    "import numpy as np\n",
    "import matplotlib.pyplot as plt\n",
    "import matplotlib.pyplot as plt\n",
    "from numpy.random import multivariate_normal as GaussianRV\n",
    "from numpy.random import uniform\n",
    "import math\n",
    "import pandas as pd\n",
    "\n",
    "# Generate training dataset  \n",
    "M=50\n",
    "class1=GaussianRV([-1,-1],[[1,0],[0,1]],M)\n",
    "theta1=uniform(low=0.,high=2.*np.pi,size=M)    \n",
    "class2=GaussianRV([1,1],[[1,0],[0,1]],M)\n",
    "theta2=uniform(low=0.,high=2.*np.pi,size=M)    \n",
    "for i in np.arange(0,M):\n",
    "    Rot=np.matrix([[math.cos(theta1[i]),-1.*math.sin(theta1[i])],\n",
    "                    [math.sin(theta1[i]),math.cos(theta1[i])]])\n",
    "    class1[i]=np.matmul(Rot,class1[i].T)\n",
    "    Rot=np.matrix([[math.cos(theta2[i]),-1.*math.sin(theta2[i])],\n",
    "                   [math.sin(theta2[i]),math.cos(theta2[i])]])\n",
    "    class2[i]=np.matmul(Rot,class2[i].T)\n",
    "Xtraining=np.concatenate((class1,class2))\n",
    "Ytraining=np.concatenate((np.zeros(len(class1)),np.ones(len(class2))))\n",
    "\n",
    "# Generate test dataset \n",
    "P=500\n",
    "class1=np.asarray(GaussianRV([-1,-1],[[1,0],[0,1]],P))\n",
    "theta1=uniform(low=0.,high=2.*np.pi,size=P)    \n",
    "class2=np.asarray(GaussianRV([1,1],[[1,0],[0,1]],P))\n",
    "theta2=uniform(low=0.,high=2.*np.pi,size=P) \n",
    "for i in np.arange(0,P):\n",
    "    Rot=np.matrix([[math.cos(theta1[i]),-1.*math.sin(theta1[i])],\n",
    "                    [math.sin(theta1[i]),math.cos(theta1[i])]])\n",
    "    class1[i]=np.matmul(Rot,class1[i].T)\n",
    "    Rot=np.matrix([[math.cos(theta2[i]),-1.*math.sin(theta2[i])],\n",
    "                   [math.sin(theta2[i]),math.cos(theta2[i])]])\n",
    "    class2[i]=np.matmul(Rot,class2[i].T)\n",
    "Xtest=np.concatenate((class1,class2))\n",
    "Ytest=np.concatenate((np.zeros(len(class1)),np.ones(len(class1))))"
   ]
  },
  {
   "cell_type": "code",
   "execution_count": 2,
   "metadata": {},
   "outputs": [
    {
     "data": {
      "text/plain": [
       "Text(0, 0.5, 'y')"
      ]
     },
     "execution_count": 2,
     "metadata": {},
     "output_type": "execute_result"
    },
    {
     "data": {
      "image/png": "[encoded data removed]",
      "text/plain": [
       "<Figure size 216x144 with 1 Axes>"
      ]
     },
     "metadata": {
      "needs_background": "light"
     },
     "output_type": "display_data"
    }
   ],
   "source": [
    "# Visualize training dataset \n",
    "fig=plt.figure(figsize=(3., 2.))\n",
    "plt.scatter(Xtraining[:M,0],Xtraining[:M,1],c='blue')\n",
    "plt.scatter(Xtraining[M:,0],Xtraining[M:,1],c='red')\n",
    "plt.xlabel('x') ; plt.ylabel('y')"
   ]
  },
  {
   "cell_type": "code",
   "execution_count": 3,
   "metadata": {},
   "outputs": [
    {
     "data": {
      "text/plain": [
       "Text(0, 0.5, 'y')"
      ]
     },
     "execution_count": 3,
     "metadata": {},
     "output_type": "execute_result"
    },
    {
     "data": {
      "image/png": "[encoded data removed]",
      "text/plain": [
       "<Figure size 216x144 with 1 Axes>"
      ]
     },
     "metadata": {
      "needs_background": "light"
     },
     "output_type": "display_data"
    }
   ],
   "source": [
    "# Visualize test dataset \n",
    "fig=plt.figure(figsize=(3., 2.))\n",
    "plt.scatter(Xtest[:P,0],Xtest[:P,1],c='blue')\n",
    "plt.scatter(Xtest[P:,0],Xtest[P:,1],c='red')\n",
    "plt.xlabel('x') ; plt.ylabel('y')"
   ]
  },
  {
   "cell_type": "code",
   "execution_count": 4,
   "metadata": {},
   "outputs": [
    {
     "name": "stdout",
     "output_type": "stream",
     "text": [
      "    model_complexity  neighbors_no    mean       std\n",
      "0           0.041667            24  0.5328  0.029086\n",
      "1           0.043478            23  0.5232  0.031849\n",
      "2           0.045455            22  0.5068  0.023756\n",
      "3           0.047619            21  0.5172  0.027616\n",
      "4           0.050000            20  0.4912  0.029200\n",
      "5           0.052632            19  0.5044  0.034771\n",
      "6           0.055556            18  0.4656  0.028734\n",
      "7           0.058824            17  0.4828  0.034098\n",
      "8           0.062500            16  0.4524  0.037336\n",
      "9           0.066667            15  0.4520  0.041332\n",
      "10          0.071429            14  0.4692  0.031348\n",
      "11          0.076923            13  0.4540  0.034034\n",
      "12          0.083333            12  0.4688  0.023152\n",
      "13          0.090909            11  0.4716  0.033995\n",
      "14          0.100000            10  0.4956  0.028589\n",
      "15          0.111111             9  0.4828  0.022825\n",
      "16          0.125000             8  0.4860  0.024152\n",
      "17          0.142857             7  0.4984  0.023749\n",
      "18          0.166667             6  0.4780  0.030139\n",
      "19          0.200000             5  0.4972  0.034220\n",
      "20          0.250000             4  0.5096  0.027154\n",
      "21          0.333333             3  0.5652  0.024515\n",
      "22          0.500000             2  0.5344  0.024166\n",
      "23          1.000000             1  0.5352  0.022568\n"
     ]
    },
    {
     "data": {
      "text/plain": [
       "Text(0, 0.5, 'CV error')"
      ]
     },
     "execution_count": 4,
     "metadata": {},
     "output_type": "execute_result"
    },
    {
     "data": {
      "image/png": "[encoded data removed]",
      "text/plain": [
       "<Figure size 360x360 with 1 Axes>"
      ]
     },
     "metadata": {
      "needs_background": "light"
     },
     "output_type": "display_data"
    }
   ],
   "source": [
    "### Apply four different classifiers:\n",
    "### In each case choose the number of neighbors by tenfold cross-validation.\n",
    "### 1. Nearest-neighbors.\n",
    "### scikit learn provide automatic algo \n",
    "### KNeighborsClassifier(n_neighbors=5, *, weights='uniform', algorithm='auto', leaf_size=30, p=2, \n",
    "###                      metric='minkowski', metric_params=None, n_jobs=None)\n",
    "\n",
    "from sklearn.neighbors import KNeighborsClassifier\n",
    "from numpy.random import choice\n",
    "\n",
    "# implement 10-fold cross validation \n",
    "summary=pd.DataFrame(columns=['model_complexity','neighbors_no','test_error','fold_no','split_no'])\n",
    "# split training dataset \n",
    "K=10\n",
    "p=int(2*M/K)\n",
    "for s in np.arange(0,25):\n",
    "    indexlist=choice(np.arange(0,len(Xtraining)),size=(K,p),replace=False)\n",
    "    # run over no. neighbors\n",
    "    for k in np.arange(1,25):\n",
    "        # estimate cross-validation error \n",
    "        for q in np.arange(0,K):\n",
    "            # filter out cross-validation data\n",
    "            indx=np.setdiff1d(indexlist.flatten(),indexlist[q])\n",
    "            CVXtraining, CVYtraining=Xtraining[indx], Ytraining[indx] \n",
    "            CVXtest, CVYtest=Xtraining[indexlist[q]], Ytraining[indexlist[q]] \n",
    "            # train the model \n",
    "            model=KNeighborsClassifier(n_neighbors=k,algorithm='brute')\n",
    "            model.fit(CVXtraining,CVYtraining)\n",
    "            # calculate cross validation error \n",
    "            CVpreds=model.predict(CVXtest)\n",
    "            df=pd.DataFrame({'true_data': CVYtest, 'model_predictions': CVpreds}\n",
    "                           ).assign(model_complexity=1./k, neighbors_no=k, fold_no=q, split_no=s)\n",
    "            df['misclassification_error']=(df['true_data']==df['model_predictions']\n",
    "                                          ).apply(lambda z: 0 if z==True else 1)\n",
    "            df=df.groupby(by=['model_complexity','neighbors_no','fold_no','split_no'])['misclassification_error'].sum().reset_index().rename(columns={'misclassification_error':'test_error'})\n",
    "            summary=pd.concat([summary,df],sort=False)\n",
    "summary=summary.groupby(by=['model_complexity','neighbors_no','split_no'])['test_error'].sum().reset_index()\n",
    "summary['test_error']/=2*M\n",
    "summary=summary.groupby(by=['model_complexity','neighbors_no'])['test_error'].agg([\"mean\",\"std\"]).reset_index()\n",
    "print(summary)\n",
    "\n",
    "# Plot cross-validation error \n",
    "fig=plt.figure(figsize=(5., 5.))\n",
    "plt.errorbar(summary['neighbors_no'].to_numpy(),summary['mean'].to_numpy(),yerr=summary['std'].to_numpy(),fmt='.k')\n",
    "plt.xlabel('neighbors_no') ; plt.ylabel('CV error')"
   ]
  },
  {
   "cell_type": "code",
   "execution_count": 5,
   "metadata": {},
   "outputs": [
    {
     "name": "stdout",
     "output_type": "stream",
     "text": [
      "{'algorithm': 'brute', 'leaf_size': 30, 'metric': 'minkowski', 'metric_params': None, 'n_jobs': None, 'n_neighbors': 6, 'p': 2, 'weights': 'uniform'}\n",
      "mean accuracy = 0.514\n",
      "estimated test error = 0.486\n"
     ]
    }
   ],
   "source": [
    "# calculate test error \n",
    "best_no_neighbors=float(summary.copy().loc[summary['mean']==np.min(summary['mean'].to_numpy()),'mean']\n",
    "                       )+float(summary.copy().loc[summary['mean']==np.min(summary['mean'].to_numpy()),'std'])\n",
    "summary=summary.assign(threshold=best_no_neighbors).query(\"mean<=threshold\").sort_values(by=['neighbors_no'],ascending=True)\n",
    "kbest=summary.copy()['neighbors_no'].iloc[0]\n",
    "\n",
    "# train model on full dataset \n",
    "model=KNeighborsClassifier(n_neighbors=kbest,algorithm='brute')\n",
    "model.fit(Xtraining,Ytraining)\n",
    "print(model.get_params())\n",
    "\n",
    "# calculate test error \n",
    "testpreds=model.predict(Xtest)\n",
    "print(\"mean accuracy = {}\".format(model.score(Xtest,Ytest)))\n",
    "df=pd.DataFrame({'true_data': Ytest, 'model_predictions': testpreds}).assign(model_complexity=1./kbest, neighbors_no=kbest)\n",
    "df['test_error']=(df['true_data']==df['model_predictions']).apply(lambda z: 0 if z==True else 1)\n",
    "df=df.groupby(by=['model_complexity','neighbors_no'])['test_error'].mean().reset_index()\n",
    "print(\"estimated test error = {}\".format(float(df.test_error)))"
   ]
  },
  {
   "cell_type": "code",
   "execution_count": 6,
   "metadata": {},
   "outputs": [
    {
     "data": {
      "text/plain": [
       "Text(0, 0.5, 'y')"
      ]
     },
     "execution_count": 6,
     "metadata": {},
     "output_type": "execute_result"
    },
    {
     "data": {
      "image/png": "[encoded data removed]",
      "text/plain": [
       "<Figure size 216x144 with 1 Axes>"
      ]
     },
     "metadata": {
      "needs_background": "light"
     },
     "output_type": "display_data"
    }
   ],
   "source": [
    "### 2. Nearest-neighbors with hints: ten randomly rotated versions of each\n",
    "### data point are added to the training set before applying nearest-neighbors.\n",
    "\n",
    "# Add hints\n",
    "class1hints, Y1hints=[], []\n",
    "class2hints, Y2hints=[], []\n",
    "for i in np.arange(0,M):\n",
    "    theta1=uniform(low=0.,high=2.*np.pi,size=10)\n",
    "    theta2=uniform(low=0.,high=2.*np.pi,size=10)\n",
    "    for j in np.arange(0,10):\n",
    "        Rot=np.matrix([[math.cos(theta1[j]),-1.*math.sin(theta1[j])],\n",
    "                        [math.sin(theta1[j]),math.cos(theta1[j])]])\n",
    "        class1hints.append(np.matmul(Rot,class1[i].T).tolist()[0])\n",
    "        Y1hints.append(0)\n",
    "        Rot=np.matrix([[math.cos(theta2[j]),-1.*math.sin(theta2[j])],\n",
    "                       [math.sin(theta2[j]),math.cos(theta2[j])]])\n",
    "        class2hints.append(np.matmul(Rot,class2[i].T).tolist()[0])\n",
    "        Y2hints.append(1)\n",
    "Xtraining_new=np.concatenate((class1,class1hints,class2,class2hints))\n",
    "Ytraining_new=np.concatenate((np.zeros(len(class1)),Y1hints,np.ones(len(class1)),Y2hints))\n",
    "Mnew=int(0.5*len(Xtraining_new))\n",
    "\n",
    "# Visualize training dataset \n",
    "fig=plt.figure(figsize=(3., 2.))\n",
    "plt.scatter(Xtraining_new[:Mnew,0],Xtraining_new[:Mnew,1],c='blue')\n",
    "plt.scatter(Xtraining_new[Mnew:,0],Xtraining_new[Mnew:,1],c='red')\n",
    "plt.xlabel('x') ; plt.ylabel('y')\n"
   ]
  },
  {
   "cell_type": "code",
   "execution_count": 7,
   "metadata": {},
   "outputs": [
    {
     "name": "stdout",
     "output_type": "stream",
     "text": [
      "    model_complexity  neighbors_no     mean       std\n",
      "0           0.041667            24  0.45884  0.007455\n",
      "1           0.043478            23  0.46306  0.006121\n",
      "2           0.045455            22  0.45900  0.006124\n",
      "3           0.047619            21  0.46236  0.005580\n",
      "4           0.050000            20  0.45906  0.005806\n",
      "5           0.052632            19  0.46368  0.006205\n",
      "6           0.055556            18  0.46176  0.005491\n",
      "7           0.058824            17  0.46652  0.005300\n",
      "8           0.062500            16  0.46466  0.005439\n",
      "9           0.066667            15  0.47544  0.005048\n",
      "10          0.071429            14  0.47090  0.004523\n",
      "11          0.076923            13  0.47986  0.006206\n",
      "12          0.083333            12  0.47698  0.006384\n",
      "13          0.090909            11  0.48620  0.006886\n",
      "14          0.100000            10  0.47770  0.007365\n",
      "15          0.111111             9  0.48172  0.006529\n",
      "16          0.125000             8  0.47022  0.006775\n",
      "17          0.142857             7  0.47246  0.004867\n",
      "18          0.166667             6  0.46118  0.005708\n",
      "19          0.200000             5  0.46584  0.003915\n",
      "20          0.250000             4  0.46318  0.006113\n",
      "21          0.333333             3  0.45508  0.005202\n",
      "22          0.500000             2  0.46208  0.004577\n",
      "23          1.000000             1  0.46824  0.005071\n"
     ]
    },
    {
     "data": {
      "text/plain": [
       "Text(0, 0.5, 'CV error')"
      ]
     },
     "execution_count": 7,
     "metadata": {},
     "output_type": "execute_result"
    },
    {
     "data": {
      "image/png": "[encoded data removed]",
      "text/plain": [
       "<Figure size 360x360 with 1 Axes>"
      ]
     },
     "metadata": {
      "needs_background": "light"
     },
     "output_type": "display_data"
    }
   ],
   "source": [
    "# implement 10-fold cross validation \n",
    "summary=pd.DataFrame(columns=['model_complexity','neighbors_no','test_error','fold_no','split_no'])\n",
    "# split training dataset \n",
    "K=10\n",
    "p=int(2*Mnew/K)\n",
    "for s in np.arange(0,25):\n",
    "    indexlist=choice(np.arange(0,len(Xtraining_new)),size=(K,p),replace=False)\n",
    "    # run over no. neighbors\n",
    "    for k in np.arange(1,25):\n",
    "        # estimate cross-validation error \n",
    "        for q in np.arange(0,K):\n",
    "            # filter out cross-validation data\n",
    "            indx=np.setdiff1d(indexlist.flatten(),indexlist[q])\n",
    "            CVXtraining, CVYtraining=Xtraining_new[indx], Ytraining_new[indx] \n",
    "            CVXtest, CVYtest=Xtraining_new[indexlist[q]], Ytraining_new[indexlist[q]] \n",
    "            # train the model \n",
    "            model=KNeighborsClassifier(n_neighbors=k,algorithm='brute')\n",
    "            model.fit(CVXtraining,CVYtraining)\n",
    "            # calculate cross validation error \n",
    "            CVpreds=model.predict(CVXtest)\n",
    "            df=pd.DataFrame({'true_data': CVYtest, 'model_predictions': CVpreds}\n",
    "                           ).assign(model_complexity=1./k, neighbors_no=k, fold_no=q, split_no=s)\n",
    "            df['misclassification_error']=(df['true_data']==df['model_predictions']\n",
    "                                          ).apply(lambda z: 0 if z==True else 1)\n",
    "            df=df.groupby(by=['model_complexity','neighbors_no','fold_no','split_no'])['misclassification_error'].sum().reset_index().rename(columns={'misclassification_error':'test_error'})\n",
    "            summary=pd.concat([summary,df],sort=False)\n",
    "summary=summary.groupby(by=['model_complexity','neighbors_no','split_no'])['test_error'].sum().reset_index()\n",
    "summary['test_error']/=2*Mnew\n",
    "summary=summary.groupby(by=['model_complexity','neighbors_no'])['test_error'].agg([\"mean\",\"std\"]).reset_index()\n",
    "print(summary)\n",
    "\n",
    "# Plot cross-validation error \n",
    "fig=plt.figure(figsize=(5., 5.))\n",
    "plt.errorbar(summary['neighbors_no'].to_numpy(),summary['mean'].to_numpy(),yerr=summary['std'].to_numpy(),fmt='.k')\n",
    "plt.xlabel('neighbors_no') ; plt.ylabel('CV error')"
   ]
  },
  {
   "cell_type": "code",
   "execution_count": 8,
   "metadata": {},
   "outputs": [
    {
     "name": "stdout",
     "output_type": "stream",
     "text": [
      "{'algorithm': 'brute', 'leaf_size': 30, 'metric': 'minkowski', 'metric_params': None, 'n_jobs': None, 'n_neighbors': 3, 'p': 2, 'weights': 'uniform'}\n",
      "mean accuracy = 0.734\n",
      "estimated test error = 0.266\n"
     ]
    }
   ],
   "source": [
    "# calculate test error \n",
    "best_no_neighbors=float(summary.copy().loc[summary['mean']==np.min(summary['mean'].to_numpy()),'mean']\n",
    "                       )+float(summary.copy().loc[summary['mean']==np.min(summary['mean'].to_numpy()),'std'])\n",
    "summary=summary.assign(threshold=best_no_neighbors).query(\"mean<=threshold\").sort_values(by=['neighbors_no'],ascending=True)\n",
    "kbest=summary.copy()['neighbors_no'].iloc[0]\n",
    "\n",
    "# train model on full dataset \n",
    "model=KNeighborsClassifier(n_neighbors=kbest,algorithm='brute')\n",
    "model.fit(Xtraining_new,Ytraining_new)\n",
    "print(model.get_params())\n",
    "\n",
    "# calculate test error \n",
    "testpreds=model.predict(Xtest)\n",
    "print(\"mean accuracy = {}\".format(model.score(Xtest,Ytest)))\n",
    "df=pd.DataFrame({'true_data': Ytest, 'model_predictions': testpreds}).assign(model_complexity=1./kbest, neighbors_no=kbest)\n",
    "df['test_error']=(df['true_data']==df['model_predictions']).apply(lambda z: 0 if z==True else 1)\n",
    "df=df.groupby(by=['model_complexity','neighbors_no'])['test_error'].mean().reset_index()\n",
    "print(\"estimated test error = {}\".format(float(df.test_error)))"
   ]
  },
  {
   "cell_type": "code",
   "execution_count": 43,
   "metadata": {},
   "outputs": [
    {
     "name": "stdout",
     "output_type": "stream",
     "text": [
      "    model_complexity  neighbors_no    mean       std\n",
      "0           0.041667            24  0.5672  0.038136\n",
      "1           0.043478            23  0.5676  0.041561\n",
      "2           0.045455            22  0.5676  0.032052\n",
      "3           0.047619            21  0.5664  0.036955\n",
      "4           0.050000            20  0.5664  0.036157\n",
      "5           0.052632            19  0.5552  0.050836\n",
      "6           0.055556            18  0.5640  0.042032\n",
      "7           0.058824            17  0.5520  0.038944\n",
      "8           0.062500            16  0.5544  0.040320\n",
      "9           0.066667            15  0.5360  0.032404\n",
      "10          0.071429            14  0.5284  0.040894\n",
      "11          0.076923            13  0.5164  0.030397\n",
      "12          0.083333            12  0.4972  0.032853\n",
      "13          0.090909            11  0.5364  0.042903\n",
      "14          0.100000            10  0.5124  0.034191\n",
      "15          0.111111             9  0.4756  0.028879\n",
      "16          0.125000             8  0.4464  0.031607\n",
      "17          0.142857             7  0.4272  0.025904\n",
      "18          0.166667             6  0.4616  0.016248\n",
      "19          0.200000             5  0.4388  0.020680\n",
      "20          0.250000             4  0.5296  0.025245\n",
      "21          0.333333             3  0.5312  0.023331\n",
      "22          0.500000             2  0.5376  0.017146\n",
      "23          1.000000             1  0.5160  0.022361\n"
     ]
    },
    {
     "data": {
      "text/plain": [
       "Text(0, 0.5, 'CV error')"
      ]
     },
     "execution_count": 43,
     "metadata": {},
     "output_type": "execute_result"
    },
    {
     "data": {
      "image/png": "[encoded data removed]",
      "text/plain": [
       "<Figure size 360x360 with 1 Axes>"
      ]
     },
     "metadata": {
      "needs_background": "light"
     },
     "output_type": "display_data"
    }
   ],
   "source": [
    "### 3. Invariant metric nearest-neighbors, \n",
    "### using Euclidean distance invariant to rotations about the origin.\n",
    "### To obtain the invariant metric, we rotate both points onto the x-axis\n",
    "### Distance is then the difference between the x-coordinates \n",
    "\n",
    "# define invariant metric \n",
    "def invariant_metric(x,y):\n",
    "    theta1=math.atan2(x[1],x[0])\n",
    "    theta2=math.atan2(y[1],y[0])\n",
    "    Rot1=np.matrix([[np.cos(-1.*theta1),-np.sin(-1.*theta1)],\n",
    "                    [np.sin(-1.*theta1),np.cos(-1.*theta1)]])\n",
    "    Rot2=np.matrix([[np.cos(-1.*theta2),-np.sin(-1.*theta2)],\n",
    "                    [np.sin(-1.*theta2),np.cos(-1.*theta2)]])\n",
    "    v1, v2=np.asarray(np.matmul(Rot1,x)).reshape(-1), np.asarray(np.matmul(Rot2,y)).reshape(-1)\n",
    "    return abs(v1[0]-v2[0])   \n",
    "\n",
    "# implement 10-fold cross validation \n",
    "summary=pd.DataFrame(columns=['model_complexity','neighbors_no','test_error','fold_no','split_no'])\n",
    "# split training dataset \n",
    "K=10\n",
    "p=int(2*M/K)\n",
    "for s in np.arange(0,25):\n",
    "    indexlist=choice(np.arange(0,len(Xtraining)),size=(K,p),replace=False)\n",
    "    # run over no. neighbors\n",
    "    for k in np.arange(1,25):\n",
    "        # estimate cross-validation error \n",
    "        for q in np.arange(0,K):\n",
    "            # filter out cross-validation data\n",
    "            indx=np.setdiff1d(indexlist.flatten(),indexlist[q])\n",
    "            CVXtraining, CVYtraining=Xtraining[indx], Ytraining[indx] \n",
    "            CVXtest, CVYtest=Xtraining[indexlist[q]], Ytraining[indexlist[q]] \n",
    "            # train the model \n",
    "            model=KNeighborsClassifier(n_neighbors=k,algorithm='brute',metric=invariant_metric)\n",
    "            model.fit(CVXtraining,CVYtraining)\n",
    "            # calculate cross validation error \n",
    "            CVpreds=model.predict(CVXtest)\n",
    "            df=pd.DataFrame({'true_data': CVYtest, 'model_predictions': CVpreds}\n",
    "                           ).assign(model_complexity=1./k, neighbors_no=k, fold_no=q, split_no=s)\n",
    "            df['misclassification_error']=(df['true_data']==df['model_predictions']\n",
    "                                          ).apply(lambda z: 0 if z==True else 1)\n",
    "            df=df.groupby(by=['model_complexity','neighbors_no','fold_no','split_no'])['misclassification_error'].sum().reset_index().rename(columns={'misclassification_error':'test_error'})\n",
    "            summary=pd.concat([summary,df],sort=False)\n",
    "summary=summary.groupby(by=['model_complexity','neighbors_no','split_no'])['test_error'].sum().reset_index()\n",
    "summary['test_error']/=2*M\n",
    "summary=summary.groupby(by=['model_complexity','neighbors_no'])['test_error'].agg([\"mean\",\"std\"]).reset_index()\n",
    "print(summary)\n",
    "\n",
    "# Plot cross-validation error \n",
    "fig=plt.figure(figsize=(5., 5.))\n",
    "plt.errorbar(summary['neighbors_no'].to_numpy(),summary['mean'].to_numpy(),yerr=summary['std'].to_numpy(),fmt='.k')\n",
    "plt.xlabel('neighbors_no') ; plt.ylabel('CV error')\n",
    "\n"
   ]
  },
  {
   "cell_type": "code",
   "execution_count": 44,
   "metadata": {},
   "outputs": [
    {
     "name": "stdout",
     "output_type": "stream",
     "text": [
      "{'algorithm': 'brute', 'leaf_size': 30, 'metric': <function invariant_metric at 0x1a1e9b08c0>, 'metric_params': None, 'n_jobs': None, 'n_neighbors': 5, 'p': 2, 'weights': 'uniform'}\n",
      "mean accuracy = 0.489\n",
      "estimated test error = 0.511\n"
     ]
    }
   ],
   "source": [
    "# calculate test error \n",
    "best_no_neighbors=float(summary.copy().loc[summary['mean']==np.min(summary['mean'].to_numpy()),'mean']\n",
    "                       )+float(summary.copy().loc[summary['mean']==np.min(summary['mean'].to_numpy()),'std'])\n",
    "summary=summary.assign(threshold=best_no_neighbors).query(\"mean<=threshold\").sort_values(by=['neighbors_no'],ascending=True)\n",
    "kbest=summary.copy()['neighbors_no'].iloc[0]\n",
    "\n",
    "# train model on full dataset \n",
    "model=KNeighborsClassifier(n_neighbors=kbest,algorithm='brute',metric=invariant_metric)\n",
    "model.fit(Xtraining,Ytraining)\n",
    "print(model.get_params())\n",
    "\n",
    "# calculate test error \n",
    "testpreds=model.predict(Xtest)\n",
    "print(\"mean accuracy = {}\".format(model.score(Xtest,Ytest)))\n",
    "df=pd.DataFrame({'true_data': Ytest, 'model_predictions': testpreds}).assign(model_complexity=1./kbest, neighbors_no=kbest)\n",
    "df['test_error']=(df['true_data']==df['model_predictions']).apply(lambda z: 0 if z==True else 1)\n",
    "df=df.groupby(by=['model_complexity','neighbors_no'])['test_error'].mean().reset_index()\n",
    "print(\"estimated test error = {}\".format(float(df.test_error)))"
   ]
  },
  {
   "cell_type": "code",
   "execution_count": 54,
   "metadata": {},
   "outputs": [
    {
     "name": "stdout",
     "output_type": "stream",
     "text": [
      "    model_complexity  neighbors_no  mean  std\n",
      "0           0.041667            24   0.5  0.0\n",
      "1           0.043478            23   0.5  0.0\n",
      "2           0.045455            22   0.5  0.0\n",
      "3           0.047619            21   0.5  0.0\n",
      "4           0.050000            20   0.5  0.0\n",
      "5           0.052632            19   0.5  0.0\n",
      "6           0.055556            18   0.5  0.0\n",
      "7           0.058824            17   0.5  0.0\n",
      "8           0.062500            16   0.5  0.0\n",
      "9           0.066667            15   0.5  0.0\n",
      "10          0.071429            14   0.5  0.0\n",
      "11          0.076923            13   0.5  0.0\n",
      "12          0.083333            12   0.5  0.0\n",
      "13          0.090909            11   0.5  0.0\n",
      "14          0.100000            10   0.5  0.0\n",
      "15          0.111111             9   0.5  0.0\n",
      "16          0.125000             8   0.5  0.0\n",
      "17          0.142857             7   0.5  0.0\n",
      "18          0.166667             6   0.5  0.0\n",
      "19          0.200000             5   0.5  0.0\n",
      "20          0.250000             4   0.5  0.0\n",
      "21          0.333333             3   0.5  0.0\n",
      "22          0.500000             2   0.5  0.0\n",
      "23          1.000000             1   0.5  0.0\n"
     ]
    },
    {
     "data": {
      "text/plain": [
       "Text(0, 0.5, 'CV error')"
      ]
     },
     "execution_count": 54,
     "metadata": {},
     "output_type": "execute_result"
    },
    {
     "data": {
      "image/png": "[encoded data removed]",
      "text/plain": [
       "<Figure size 360x360 with 1 Axes>"
      ]
     },
     "metadata": {
      "needs_background": "light"
     },
     "output_type": "display_data"
    }
   ],
   "source": [
    "### 4. Tangent distance nearest-neighbors.\n",
    "\n",
    "# define tangent distance \n",
    "def tangent_distance(x,y):\n",
    "    Rot=np.matrix([[0,-1],\n",
    "                    [1,0]])\n",
    "    v1=np.matmul(Rot,x)\n",
    "    v2=np.matmul(Rot,y)\n",
    "    v1=np.round(v1/np.linalg.norm(v1),2)\n",
    "    v2=np.round(v2/np.linalg.norm(v2),2)\n",
    "    if ((np.array_equal(v1,v2))or(np.array_equal(v1,-v2))):\n",
    "        return invariant_metric(x,y)\n",
    "    else: \n",
    "        return 0\n",
    "    \n",
    "# implement 10-fold cross validation \n",
    "summary=pd.DataFrame(columns=['model_complexity','neighbors_no','test_error','fold_no','split_no'])\n",
    "# split training dataset \n",
    "K=10\n",
    "p=int(2*M/K)\n",
    "for s in np.arange(0,25):\n",
    "    indexlist=choice(np.arange(0,len(Xtraining)),size=(K,p),replace=False)\n",
    "    # run over no. neighbors\n",
    "    for k in np.arange(1,25):\n",
    "        # estimate cross-validation error \n",
    "        for q in np.arange(0,K):\n",
    "            # filter out cross-validation data\n",
    "            indx=np.setdiff1d(indexlist.flatten(),indexlist[q])\n",
    "            CVXtraining, CVYtraining=Xtraining[indx], Ytraining[indx] \n",
    "            CVXtest, CVYtest=Xtraining[indexlist[q]], Ytraining[indexlist[q]] \n",
    "            # train the model \n",
    "            model=KNeighborsClassifier(n_neighbors=k,algorithm='brute',metric=tangent_distance)\n",
    "            model.fit(CVXtraining,CVYtraining)\n",
    "            # calculate cross validation error \n",
    "            CVpreds=model.predict(CVXtest)\n",
    "            df=pd.DataFrame({'true_data': CVYtest, 'model_predictions': CVpreds}\n",
    "                           ).assign(model_complexity=1./k, neighbors_no=k, fold_no=q, split_no=s)\n",
    "            df['misclassification_error']=(df['true_data']==df['model_predictions']\n",
    "                                          ).apply(lambda z: 0 if z==True else 1)\n",
    "            df=df.groupby(by=['model_complexity','neighbors_no','fold_no','split_no'])['misclassification_error'].sum().reset_index().rename(columns={'misclassification_error':'test_error'})\n",
    "            summary=pd.concat([summary,df],sort=False)\n",
    "summary=summary.groupby(by=['model_complexity','neighbors_no','split_no'])['test_error'].sum().reset_index()\n",
    "summary['test_error']/=2*M\n",
    "summary=summary.groupby(by=['model_complexity','neighbors_no'])['test_error'].agg([\"mean\",\"std\"]).reset_index()\n",
    "print(summary)\n",
    "\n",
    "# Plot cross-validation error \n",
    "fig=plt.figure(figsize=(5., 5.))\n",
    "plt.errorbar(summary['neighbors_no'].to_numpy(),summary['mean'].to_numpy(),yerr=summary['std'].to_numpy(),fmt='.k')\n",
    "plt.xlabel('neighbors_no') ; plt.ylabel('CV error')"
   ]
  },
  {
   "cell_type": "code",
   "execution_count": 56,
   "metadata": {},
   "outputs": [
    {
     "name": "stdout",
     "output_type": "stream",
     "text": [
      "{'algorithm': 'brute', 'leaf_size': 30, 'metric': <function tangent_distance at 0x1a1ea6a050>, 'metric_params': None, 'n_jobs': None, 'n_neighbors': 1, 'p': 2, 'weights': 'uniform'}\n",
      "mean accuracy = 0.5\n",
      "estimated test error = 0.5\n"
     ]
    }
   ],
   "source": [
    "# calculate test error \n",
    "kbest=1\n",
    "\n",
    "# train model on full dataset \n",
    "model=KNeighborsClassifier(n_neighbors=kbest,algorithm='brute',metric=tangent_distance)\n",
    "model.fit(Xtraining,Ytraining)\n",
    "print(model.get_params())\n",
    "\n",
    "# calculate test error \n",
    "testpreds=model.predict(Xtest)\n",
    "print(\"mean accuracy = {}\".format(model.score(Xtest,Ytest)))\n",
    "df=pd.DataFrame({'true_data': Ytest, 'model_predictions': testpreds}).assign(model_complexity=1./kbest, neighbors_no=kbest)\n",
    "df['test_error']=(df['true_data']==df['model_predictions']).apply(lambda z: 0 if z==True else 1)\n",
    "df=df.groupby(by=['model_complexity','neighbors_no'])['test_error'].mean().reset_index()\n",
    "print(\"estimated test error = {}\".format(float(df.test_error)))"
   ]
  },
  {
   "cell_type": "code",
   "execution_count": null,
   "metadata": {},
   "outputs": [],
   "source": [
    "### Comments \n",
    "### 1. Nearest-neighbor algorithm not that accurate. Mean accuracy only sligthly larger than 0.5\n",
    "### 2. Nearest-neighbor algorithm with hints improves accuracy significantly. \n",
    "###    Mean accuracy increases to 0.734\n",
    "### 3. Nearest-neighbor algorithm with invariant metric decreases mean accuracy (<0.5). \n",
    "###    This is consistent with the considerations made in the book on the digit recognition problem.  \n",
    "### 4. Nearest-neighbor algorithm with tangent metric increases accuracy with respect to full invariant metric, \n",
    "###    but overall for this problem does not lead to any substantial benefit. \n",
    "### Best procedure for this dataset is to include hints. "
   ]
  }
 ],
 "metadata": {
  "kernelspec": {
   "display_name": "Python 3",
   "language": "python",
   "name": "python3"
  },
  "language_info": {
   "codemirror_mode": {
    "name": "ipython",
    "version": 3
   },
   "file_extension": ".py",
   "mimetype": "text/x-python",
   "name": "python",
   "nbconvert_exporter": "python",
   "pygments_lexer": "ipython3",
   "version": "3.7.4"
  }
 },
 "nbformat": 4,
 "nbformat_minor": 2
}
