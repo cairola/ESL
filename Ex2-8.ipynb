{
 "cells": [
  {
   "cell_type": "code",
   "execution_count": 1,
   "metadata": {},
   "outputs": [],
   "source": [
    "# Code setup \n",
    "import pandas as pd\n",
    "import scipy as scp\n",
    "import numpy as np\n",
    "from numpy.random import choice\n",
    "import re \n",
    "import matplotlib as mtpl \n",
    "import matplotlib.pyplot as plt\n",
    "import seaborn as sb"
   ]
  },
  {
   "cell_type": "code",
   "execution_count": 2,
   "metadata": {},
   "outputs": [],
   "source": [
    "# Import datasets \n",
    "twos=pd.read_csv('zipcode_2s.csv').reset_index(drop=True).reset_index()\n",
    "twos['255']=twos['255'].apply(lambda z: float(z.replace(re.split('(\\d+)',z)[-1],\"\")))\n",
    "indxList=choice(twos['index'].to_numpy(),int(0.25*len(twos)))\n",
    "twos_test=twos.loc[twos['index'].isin(indxList)].drop(columns=['index'])\n",
    "twos_training=twos.loc[~(twos['index'].isin(indxList))].drop(columns=['index'])\n",
    "\n",
    "threes=pd.read_csv('zipcode_3s.csv').reset_index(drop=True).reset_index()\n",
    "threes['255']=threes['255'].apply(lambda z: float(z.replace(re.split('(\\d+)',z)[-1],\"\")))\n",
    "indxList=choice(threes['index'].to_numpy(),int(0.25*len(threes)))\n",
    "threes_test=threes.loc[threes['index'].isin(indxList)].drop(columns=['index'])\n",
    "threes_training=threes.loc[~(threes['index'].isin(indxList))].drop(columns=['index'])\n",
    "\n",
    "# Generate datasets \n",
    "X=pd.concat([twos_training,threes_training],sort=False).reset_index(drop=True)\n",
    "Y=pd.DataFrame({'class': np.concatenate((2.*np.ones(len(twos_training.index)),3.*np.ones(len(threes_training.index))))})\n",
    "Y['dummy']=Y['class'].apply(lambda z: 0 if z==2. else 1)\n",
    "M,N=len(X), len(X.columns)\n",
    "X.to_csv(\"feature_matrix.csv\")\n",
    "Y.to_csv(\"output_vector.csv\")\n",
    "\n",
    "# Generate test dataset \n",
    "X_test=pd.concat([twos_test,threes_test],sort=False).reset_index(drop=True)\n",
    "Y_test=pd.DataFrame({'class': np.concatenate((2.*np.ones(len(twos_test.index)),3.*np.ones(len(threes_test.index))))})\n",
    "Y_test['dummy']=Y_test['class'].apply(lambda z: 0 if z==2. else 1)\n",
    "P,Q=len(X_test), len(X_test.columns)\n",
    "X_test.to_csv(\"feature_matrix_test.csv\")\n",
    "Y_test.to_csv(\"output_vector_test.csv\")"
   ]
  },
  {
   "cell_type": "code",
   "execution_count": 261,
   "metadata": {},
   "outputs": [],
   "source": [
    "# Nearest-neighbor classification\n",
    "summary=pd.DataFrame(columns=['no.neighbors','train_error'])\n",
    "fit_table=pd.DataFrame(columns=['no.neighbors','id','predictions'])\n",
    "\n",
    "# Cartesian metric for distance \n",
    "# distance table for training data \n",
    "distance_table=X.copy().reset_index().rename(columns={'index':'id'}\n",
    "                                            ).groupby(by='id').apply(lambda z: z.to_numpy()[0]).reset_index().rename(columns={0:'features.vector'})\n",
    "distance_table=distance_table.assign(fakekey=1)\n",
    "distance_table=distance_table.merge(distance_table,on='fakekey',suffixes=('_left','_right')).drop(columns=['fakekey'])\n",
    "distance_table['distance']=(distance_table['features.vector_left']-distance_table['features.vector_right']).apply(lambda z: np.linalg.norm(z))\n",
    "distance_table=distance_table.drop(columns=['features.vector_left','features.vector_right']).sort_values(by=['id_left','distance'])\n",
    "distance_table=distance_table.merge(Y.reset_index().rename(columns={'index':'id_right'}).drop(columns=['class']),on='id_right',how='left')\n",
    "distance_table.to_csv(\"distance_table.csv\")\n",
    "pd.set_option('display.max_rows',100)"
   ]
  },
  {
   "cell_type": "code",
   "execution_count": 262,
   "metadata": {},
   "outputs": [],
   "source": [
    "# distance table for test data\n",
    "distance_table_test=X_test.copy().reset_index().rename(columns={'index':'id_test'}\n",
    "                                             ).groupby(by='id_test').apply(lambda z: z.to_numpy()[0]).reset_index().rename(columns={0:'features.vector'})\n",
    "distance_table_test=distance_table_test.assign(fakekey=1)\n",
    "distance_table_test=distance_table_test.merge(X.copy().reset_index().rename(columns={'index':'id_train'}\n",
    "                                                                           ).groupby(by='id_train').apply(lambda z: z.to_numpy()[0]).reset_index().rename(columns={0:'features.vector'}).assign(fakekey=1),on='fakekey',suffixes=('_test','_train')).drop(columns=['fakekey'])\n",
    "distance_table_test['distance']=(distance_table_test['features.vector_test']-distance_table_test['features.vector_train']).apply(lambda z: np.linalg.norm(z))\n",
    "distance_table_test=distance_table_test.drop(columns=['features.vector_test','features.vector_train']).sort_values(by=['id_test','distance'])\n",
    "distance_table_test.to_csv(\"distance_table_test.csv\")"
   ]
  },
  {
   "cell_type": "code",
   "execution_count": 263,
   "metadata": {},
   "outputs": [
    {
     "data": {
      "text/plain": [
       "<matplotlib.axes._subplots.AxesSubplot at 0x1a1c643cd0>"
      ]
     },
     "execution_count": 263,
     "metadata": {},
     "output_type": "execute_result"
    },
    {
     "data": {
      "image/png": "[encoded data removed]",
      "text/plain": [
       "<Figure size 432x288 with 1 Axes>"
      ]
     },
     "metadata": {
      "needs_background": "light"
     },
     "output_type": "display_data"
    }
   ],
   "source": [
    "K=[1,3,5,7,15,30,60]\n",
    "fit_table=pd.DataFrame(columns=['no.neighbors','model.complexity','id','predictions'])\n",
    "test_table=pd.DataFrame(columns=['no.neighbors','model.complexity','id_test','predictions'])\n",
    "\n",
    "# Training model: estimation of averages\n",
    "for k in K:\n",
    "    df=distance_table.copy().groupby(by='id_left').apply(lambda z: np.mean(z.dummy.values[0:k])).reset_index().rename(columns={0:'predictions', 'id_left':'id'})\n",
    "    df['predictions']=df['predictions'].apply(lambda z: 1 if z>=0.5 else 0)\n",
    "    df['no.neighbors']=k\n",
    "    df['model.complexity']=1./k\n",
    "    fit_table=pd.concat([fit_table,df],sort=False)\n",
    "\n",
    "# Study performance\n",
    "summary=fit_table.copy().merge(Y.reset_index().rename(columns={'index':'id'}).drop(columns=['class']),on='id',how='left')\n",
    "summary['loss.function']=(summary['dummy']==summary['predictions']).apply(lambda z: 0 if z==True else 1)\n",
    "summary=summary.groupby(by=['no.neighbors','model.complexity'])['loss.function'].apply(lambda z: np.sum(z)/M).reset_index().rename(columns={'loss.function':'train_error'})\n",
    "summary.to_csv(\"summary_nn.csv\")\n",
    "\n",
    "# Calculate predictions on test data\n",
    "for k in K:\n",
    "    df=distance_table_test.copy().merge(Y.reset_index().rename(columns={'index':'id_train'}).drop(columns=['class']),on=['id_train'],how='left')\n",
    "    df=df.groupby(by='id_test').apply(lambda z: np.mean(z.dummy.values[0:k])).reset_index().rename(columns={0:'predictions'})\n",
    "    df['predictions']=df['predictions'].apply(lambda z: 1 if z>=0.5 else 0)\n",
    "    df['no.neighbors']=k\n",
    "    df['model.complexity']=1./k\n",
    "    test_table=pd.concat([test_table,df],sort=False)\n",
    "\n",
    "# Study performance\n",
    "summary_test=test_table.copy().merge(Y_test.reset_index().rename(columns={'index':'id_test'}).drop(columns=['class']),on='id_test',how='left')\n",
    "summary_test['loss.function']=(summary_test['dummy']==summary_test['predictions']).apply(lambda z: 0 if z==True else 1)\n",
    "summary_test=summary_test.groupby(by=['no.neighbors','model.complexity'])['loss.function'].apply(lambda z: np.sum(z)/P).reset_index().rename(columns={'loss.function':'test_error'})\n",
    "summary_test.to_csv(\"summary_test_nn.csv\")\n",
    "\n",
    "fig=plt.figure(figsize=(6.,4.))\n",
    "sb.scatterplot(x=summary['model.complexity'],y=summary['train_error'],legend=False)\n",
    "sb.scatterplot(x=summary_test['model.complexity'],y=summary_test['test_error'],legend=False)\n",
    "# plt.ylim(-0.005,0.01)\n"
   ]
  },
  {
   "cell_type": "code",
   "execution_count": 3,
   "metadata": {},
   "outputs": [
    {
     "name": "stdout",
     "output_type": "stream",
     "text": [
      "   no.features  train_error  test_error\n",
      "0          128     0.043721    0.095541\n",
      "0          129     0.040930    0.092357\n",
      "0          130     0.040000    0.079618\n",
      "0          131     0.034419    0.073248\n",
      "0          132     0.035349    0.073248\n",
      "..         ...          ...         ...\n",
      "0          251     0.003721    0.028662\n",
      "0          252     0.003721    0.028662\n",
      "0          253     0.002791    0.031847\n",
      "0          254     0.002791    0.028662\n",
      "0          255     0.003721    0.028662\n",
      "\n",
      "[128 rows x 3 columns]\n"
     ]
    }
   ],
   "source": [
    "# Linear regression classification\n",
    "summary=pd.DataFrame(columns=['no.features','train_error','test_error'])\n",
    "\n",
    "# Define subset dimensions\n",
    "size=np.arange(int(N/2),N)\n",
    "\n",
    "# Generate models \n",
    "for no in size:\n",
    "    \n",
    "    # Train linear model \n",
    "    ydata=Y['dummy'].to_numpy()\n",
    "    colstoread=X.columns.to_numpy()[0:no]\n",
    "    xdata=X[colstoread]#.to_numpy()\n",
    "    H=np.linalg.inv(np.dot(xdata.transpose(),xdata))\n",
    "    beta=np.dot(H,np.dot(xdata.transpose(),ydata))\n",
    "\n",
    "    \n",
    "    # A. Calculate training error\n",
    "    \n",
    "    # Generate predictions\n",
    "    Yhat=np.dot(xdata,beta)\n",
    "    Y['model.out']=Yhat\n",
    "    Y['predictions']=Y['model.out'].apply(lambda z: 0 if z<=0.5 else 1)\n",
    "\n",
    "    # Study performance \n",
    "    Y['loss.function']=(Y['dummy']==Y['predictions']).apply(lambda z: 0 if z==True else 1)\n",
    "    train_error=Y['loss.function'].sum()/len(Y)\n",
    "    \n",
    "    \n",
    "    # B. Calculate test error\n",
    "    \n",
    "    # Generate predictions\n",
    "    ydata=Y_test['dummy'].to_numpy()\n",
    "    colstoread=X_test.columns.to_numpy()[0:no]\n",
    "    xdata=X_test[colstoread]#.to_numpy()\n",
    "    Yhat=np.dot(xdata,beta)\n",
    "    Y_test['model.out']=Yhat\n",
    "    Y_test['predictions']=Y_test['model.out'].apply(lambda z: 0 if z<=0.5 else 1)\n",
    "\n",
    "    # Study performance \n",
    "    Y_test['loss.function']=(Y_test['dummy']==Y_test['predictions']).apply(lambda z: 0 if z==True else 1)\n",
    "    test_error=Y_test['loss.function'].sum()/len(Y_test)\n",
    "    \n",
    "    \n",
    "    # Save results \n",
    "    summary=pd.concat([summary,\n",
    "                       pd.DataFrame({'no.features' : [no], 'train_error' : train_error, 'test_error' : test_error})\n",
    "                      ],sort=False)\n",
    "    Y=Y.drop(columns=['model.out','predictions','loss.function'])\n",
    "    Y_test=Y_test.drop(columns=['model.out','predictions','loss.function'])\n",
    "\n",
    "# results\n",
    "summary.to_csv(\"summary.csv\")\n",
    "print(summary)"
   ]
  },
  {
   "cell_type": "code",
   "execution_count": 4,
   "metadata": {},
   "outputs": [
    {
     "data": {
      "text/plain": [
       "<matplotlib.axes._subplots.AxesSubplot at 0x1a1f1c4a10>"
      ]
     },
     "execution_count": 4,
     "metadata": {},
     "output_type": "execute_result"
    },
    {
     "data": {
      "image/png": "[encoded data removed]",
      "text/plain": [
       "<Figure size 432x288 with 1 Axes>"
      ]
     },
     "metadata": {
      "needs_background": "light"
     },
     "output_type": "display_data"
    }
   ],
   "source": [
    "fig=plt.figure(figsize=(6.,4.))\n",
    "sb.scatterplot(x=summary['no.features'],y=summary['train_error'],legend=False)\n",
    "sb.scatterplot(x=summary['no.features'],y=summary['test_error'],legend=False)"
   ]
  },
  {
   "cell_type": "code",
   "execution_count": 19,
   "metadata": {},
   "outputs": [
    {
     "name": "stdout",
     "output_type": "stream",
     "text": [
      "        0    1    2      3      4      5      6      7      8      9  ...  \\\n",
      "108  -1.0 -1.0 -1.0 -1.000 -1.000 -1.000 -1.000 -1.000 -1.000 -1.000  ...   \n",
      "229  -1.0 -1.0 -1.0 -1.000 -1.000 -1.000 -1.000 -1.000 -1.000 -1.000  ...   \n",
      "1117 -1.0 -1.0 -1.0 -1.000 -1.000 -1.000 -1.000 -0.252  1.000  0.652  ...   \n",
      "17   -1.0 -1.0 -1.0 -0.847  0.609  1.000  0.604 -0.529 -1.000 -1.000  ...   \n",
      "300  -1.0 -1.0 -1.0 -0.764  0.369  0.673  1.000  1.000  0.785 -0.238  ...   \n",
      "...   ...  ...  ...    ...    ...    ...    ...    ...    ...    ...  ...   \n",
      "1357 -1.0 -1.0 -1.0 -0.968 -0.486  0.191  0.217  0.484  0.569  1.000  ...   \n",
      "1128 -1.0 -1.0 -1.0 -0.635 -0.015  0.272  0.338  1.000  1.000  1.000  ...   \n",
      "614  -1.0 -1.0 -1.0 -1.000 -1.000 -1.000 -1.000 -0.474 -0.354 -0.781  ...   \n",
      "436  -1.0 -1.0 -1.0 -1.000 -0.758  0.053  0.765  0.847  0.381 -0.852  ...   \n",
      "987  -1.0 -1.0 -1.0 -1.000 -1.000 -0.757  0.402  1.000  1.000  0.235  ...   \n",
      "\n",
      "        246    247    248    249    250    251    252    253    254    255  \n",
      "108  -1.000 -1.000 -1.000 -1.000 -1.000 -1.000 -1.000 -1.000 -1.000 -1.000  \n",
      "229  -1.000 -1.000 -1.000 -1.000 -1.000 -1.000 -1.000 -1.000 -1.000 -1.000  \n",
      "1117  0.684  0.806  0.979  0.951  0.163 -0.326 -0.953 -1.000 -1.000 -1.000  \n",
      "17   -0.802 -1.000 -1.000 -1.000 -1.000 -1.000 -1.000 -1.000 -1.000 -1.000  \n",
      "300  -1.000 -1.000 -1.000 -1.000 -1.000 -0.861  0.289  0.705  0.203 -0.995  \n",
      "...     ...    ...    ...    ...    ...    ...    ...    ...    ...    ...  \n",
      "1357 -0.403  0.052  0.484  0.880  0.486  0.484  0.477 -0.386 -1.000 -1.000  \n",
      "1128  0.801  0.272  0.191 -0.455 -0.828 -1.000 -1.000 -1.000 -1.000 -1.000  \n",
      "614  -1.000 -1.000 -1.000 -1.000 -1.000 -1.000 -1.000 -1.000 -1.000 -1.000  \n",
      "436  -1.000 -1.000 -1.000 -1.000 -1.000 -1.000 -1.000 -1.000 -0.948 -0.330  \n",
      "987   0.173  0.356  1.000  1.000  1.000  0.977  0.333 -0.274 -1.000 -1.000  \n",
      "\n",
      "[138 rows x 256 columns]\n",
      "          0      1      2      3      4      5      6      7      8      9  \\\n",
      "0    -1.000 -1.000 -1.000 -1.000 -1.000 -0.798  0.300  0.432 -0.799 -1.000   \n",
      "1    -1.000 -1.000 -1.000 -1.000 -1.000 -0.638  0.222  0.706  1.000  0.731   \n",
      "3    -1.000 -1.000 -1.000 -1.000 -1.000 -1.000 -1.000 -1.000 -1.000 -1.000   \n",
      "4    -1.000 -1.000 -1.000 -1.000 -1.000 -1.000 -1.000 -1.000 -1.000 -1.000   \n",
      "6    -1.000 -1.000 -1.000 -1.000 -0.850  0.556  1.000  0.593 -0.071 -0.600   \n",
      "...     ...    ...    ...    ...    ...    ...    ...    ...    ...    ...   \n",
      "1384 -1.000 -0.882 -0.334  0.267  0.333  0.749  1.000  1.000  1.000  1.000   \n",
      "1385 -0.985 -0.048  0.226  0.226  0.226 -0.355 -0.807 -1.000 -0.726 -0.555   \n",
      "1386 -1.000 -1.000 -1.000 -0.988 -0.527 -0.208  0.620  1.000  0.467  0.396   \n",
      "1387 -1.000 -1.000 -1.000 -0.990  0.708  0.557  0.347 -0.107 -0.758 -0.975   \n",
      "1388 -1.000 -1.000 -1.000 -0.783 -0.984 -0.827  0.068  1.000  1.000  1.000   \n",
      "\n",
      "      ...    246    247    248    249    250    251    252    253    254  255  \n",
      "0     ... -0.947 -0.524  0.307  0.390  0.852  0.751  0.990  0.567 -0.664 -1.0  \n",
      "1     ... -0.576  0.635  0.755  0.549  0.273  0.074 -0.083 -1.000 -1.000 -1.0  \n",
      "3     ... -1.000 -1.000 -1.000 -1.000 -1.000 -1.000 -1.000 -1.000 -1.000 -1.0  \n",
      "4     ... -1.000 -1.000 -1.000 -1.000 -1.000 -1.000 -1.000 -1.000 -1.000 -1.0  \n",
      "6     ... -1.000 -0.831 -0.392  0.592  1.000  1.000  0.767 -0.658 -1.000 -1.0  \n",
      "...   ...    ...    ...    ...    ...    ...    ...    ...    ...    ...  ...  \n",
      "1384  ...  0.968  1.000  1.000  1.000  0.809  0.325 -0.820 -1.000 -1.000 -1.0  \n",
      "1385  ... -0.307 -0.555 -0.555 -0.555 -0.556 -1.000 -1.000 -1.000 -1.000 -1.0  \n",
      "1386  ... -0.116  0.899  0.416 -0.510 -1.000 -1.000 -1.000 -1.000 -1.000 -1.0  \n",
      "1387  ...  0.697  0.636  0.167 -0.968 -1.000 -1.000 -1.000 -1.000 -1.000 -1.0  \n",
      "1388  ...  0.805  1.000  1.000  0.727 -0.342 -0.933 -1.000 -1.000 -1.000 -1.0  \n",
      "\n",
      "[1258 rows x 256 columns]\n"
     ]
    }
   ],
   "source": [
    "print(Xtest); print(X)"
   ]
  },
  {
   "cell_type": "code",
   "execution_count": null,
   "metadata": {},
   "outputs": [],
   "source": []
  }
 ],
 "metadata": {
  "kernelspec": {
   "display_name": "Python 3",
   "language": "python",
   "name": "python3"
  },
  "language_info": {
   "codemirror_mode": {
    "name": "ipython",
    "version": 3
   },
   "file_extension": ".py",
   "mimetype": "text/x-python",
   "name": "python",
   "nbconvert_exporter": "python",
   "pygments_lexer": "ipython3",
   "version": "3.7.4"
  }
 },
 "nbformat": 4,
 "nbformat_minor": 2
}
