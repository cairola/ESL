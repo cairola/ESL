{
 "cells": [
  {
   "cell_type": "code",
   "execution_count": 1,
   "metadata": {},
   "outputs": [],
   "source": [
    "## A. Write a program to fit a single hidden layer neural network (ten hidden units) \n",
    "## via back-propagation and weight decay."
   ]
  },
  {
   "cell_type": "code",
   "execution_count": 2,
   "metadata": {},
   "outputs": [],
   "source": [
    "import numpy as np\n",
    "from numpy.random import multivariate_normal as GaussianRV\n",
    "from numpy.random import normal \n",
    "\n",
    "# NN architecture \n",
    "# no. of hidden units \n",
    "no_layers=10\n",
    "# no. of features\n",
    "no_features=2\n",
    "# parameters (including bias units)\n",
    "# rule of thumb (fan-in): varianza ugual a 1/sqrt(numero nodi)\n",
    "alpha=normal(loc=0.,scale=0.001,size=(1+no_features,no_layers))\n",
    "beta=normal(loc=0.,scale=0.001,size=1+no_layers)\n",
    "# learning rate \n",
    "gamma=0.075\n",
    "# tuning parameter\n",
    "rho=0.\n",
    "\n",
    "# backprop algorithm\n",
    "def sigma(v):\n",
    "    return 1./(1.+np.exp(-v))\n",
    "def dersigma(v):\n",
    "    return np.exp(-v)/np.power(1.+np.exp(-v),2.)\n",
    "def fwd_pass(x, a, b):\n",
    "    z=sigma(np.matmul(a.T,x))\n",
    "    z=np.insert(z,0,1.) #add bias unit \n",
    "    return float(np.matmul(b.T,z))\n",
    "def bkwd_pass(x, y, a, b, M, p):\n",
    "    delta_i=-2.*(y-fwd_pass(x, a, b))\n",
    "    z=sigma(np.matmul(a.T,x))\n",
    "    z=np.insert(z,0,1.) #add bias unit \n",
    "    dRidbeta=delta_i*z\n",
    "    S_i=delta_i*(np.multiply(dersigma(np.matmul(a.T,x)),np.delete(b,0)))\n",
    "    dRidalpha=np.tile(S_i,(1+p,1))\n",
    "    dRidalpha=np.multiply(np.tile(x,(M,1)).T,dRidalpha)\n",
    "    return dRidbeta, dRidalpha\n",
    "def trainNNmodel(x, y, a, b, M, p, no, N, g, l):\n",
    "    a_updated=a\n",
    "    b_updated=b\n",
    "    for t in range(0,no):\n",
    "        for q in range(0,N):\n",
    "            d,s=bkwd_pass(x[q], y[q], a_updated, b_updated, M, p)\n",
    "            a_updated=a_updated-(g/(0.75*t+1))*(s+l*2.*a_updated)\n",
    "            b_updated=b_updated-(g/(0.75*t+1))*(d+l*2.*b_updated)\n",
    "    return (a_updated, b_updated)\n"
   ]
  },
  {
   "cell_type": "code",
   "execution_count": 3,
   "metadata": {},
   "outputs": [],
   "source": [
    "## B. Apply it to 100 observations from the model \n",
    "## Y = σ(a^T_1 X) + (a^T_2 X)^2 + 0.30 Z,\n",
    "## where σ is the sigmoid function, Z is standard normal, X^T = (X1,X2),\n",
    "## each Xj being independent standard normal, and a1 = (3, 3), a2 = (3,−3). \n",
    "## B.1 Generate a test sample of size 1000, "
   ]
  },
  {
   "cell_type": "code",
   "execution_count": 4,
   "metadata": {},
   "outputs": [],
   "source": [
    "def model(x,z,v1,v2):\n",
    "    return [sigma(np.matmul(v1.T,el))+np.power(np.matmul(v2.T,el),2.)+0.3*z[indx] for (indx,el) in enumerate(x)]\n",
    "\n",
    "# 1. generate training set \n",
    "Ntrain=100\n",
    "a1, a2 = np.asarray([3,3]), np.asarray([3,-3])\n",
    "X1 = normal(loc=0.,scale=1.,size=Ntrain)\n",
    "X2 = normal(loc=0.,scale=1.,size=Ntrain)\n",
    "Xtrain = np.column_stack((X1,X2))\n",
    "Z = normal(loc=0.,scale=1.,size=Ntrain)\n",
    "Ytrain=model(Xtrain,Z,a1,a2)\n",
    "Xtrain = np.column_stack((np.ones(Ntrain),Xtrain))\n",
    "\n",
    "# 2. generate training set \n",
    "Ntest=1000\n",
    "X1 = normal(loc=0.,scale=1.,size=Ntest)\n",
    "X2 = normal(loc=0.,scale=1.,size=Ntest)\n",
    "Xtest = np.column_stack((X1,X2))\n",
    "Z = normal(loc=0.,scale=1.,size=Ntest)\n",
    "Ytest=model(Xtest,Z,a1,a2)\n",
    "Xtest = np.column_stack((np.ones(Ntest),Xtest))\n"
   ]
  },
  {
   "cell_type": "code",
   "execution_count": 10,
   "metadata": {},
   "outputs": [],
   "source": [
    "## B.2 and plot the training and test error curves as a function of the number of training epochs, \n",
    "import pandas as pd\n",
    "import matplotlib.pyplot as plt\n",
    "import matplotlib.pyplot as plt\n",
    "\n",
    "# learning rate \n",
    "gamma=0.05\n",
    "# tuning parameter\n",
    "rho=0.\n",
    "\n",
    "results=pd.DataFrame(columns=['no_epochs','training_error'])\n",
    "predictions=pd.DataFrame(columns=['no_epochs','test_error'])\n",
    "    \n",
    "for no_epochs in range(1,401,8):\n",
    "    # train the model\n",
    "    alpha_trained, beta_trained = trainNNmodel(Xtrain, Ytrain, alpha, beta, no_layers, no_features, no_epochs, Ntrain, gamma, rho)\n",
    "    # calculate training error\n",
    "    df=pd.DataFrame(Xtrain).apply(lambda z: fwd_pass(z.values, alpha_trained, beta_trained),axis=1)\n",
    "    df=(df-pd.Series(Ytrain)).apply(lambda z: np.abs(z))\n",
    "    results=pd.concat([results,pd.DataFrame({'no_epochs': [no_epochs], 'training_error': [df.mean()]})],sort=False)\n",
    "    # calculate test error \n",
    "    df=pd.DataFrame(Xtest).apply(lambda z: fwd_pass(z.values, alpha_trained, beta_trained),axis=1)\n",
    "    df=(df-pd.Series(Ytest)).apply(lambda z: np.abs(z))\n",
    "    predictions=pd.concat([predictions,pd.DataFrame({'no_epochs': [no_epochs], 'test_error': [df.mean()]})],sort=False)\n"
   ]
  },
  {
   "cell_type": "code",
   "execution_count": 11,
   "metadata": {},
   "outputs": [
    {
     "data": {
      "text/plain": [
       "Text(0, 0.5, 'Training/Test Error')"
      ]
     },
     "execution_count": 11,
     "metadata": {},
     "output_type": "execute_result"
    },
    {
     "data": {
      "image/png": "[encoded data removed]",
      "text/plain": [
       "<Figure size 360x360 with 1 Axes>"
      ]
     },
     "metadata": {
      "needs_background": "light"
     },
     "output_type": "display_data"
    }
   ],
   "source": [
    "fig=plt.figure(figsize=(5., 5.))\n",
    "plt.plot(results['no_epochs'],results['training_error'],c='blue')\n",
    "plt.plot(predictions['no_epochs'],predictions['test_error'],c='red')\n",
    "plt.xlabel('Number of epochs') \n",
    "plt.ylabel('Training/Test Error')"
   ]
  },
  {
   "cell_type": "code",
   "execution_count": 22,
   "metadata": {},
   "outputs": [],
   "source": [
    "## B.3 for different values of the weight decay parameter. \n",
    "\n",
    "results=pd.DataFrame(columns=['rho','training_error'])\n",
    "predictions=pd.DataFrame(columns=['rho','test_error'])\n",
    "no_epochs=200\n",
    "    \n",
    "for rho in np.linspace(0,2,50):\n",
    "    # train the model\n",
    "    alpha_trained, beta_trained = trainNNmodel(Xtrain, Ytrain, alpha, beta, no_layers, no_features, no_epochs, Ntrain, gamma, rho)\n",
    "    # calculate training error\n",
    "    df=pd.DataFrame(Xtrain).apply(lambda z: fwd_pass(z.values, alpha_trained, beta_trained),axis=1)\n",
    "    df=(df-pd.Series(Ytrain)).apply(lambda z: np.abs(z))\n",
    "    results=pd.concat([results,pd.DataFrame({'rho': [rho], 'training_error': [df.mean()]})],sort=False)\n",
    "    # calculate test error \n",
    "    df=pd.DataFrame(Xtest).apply(lambda z: fwd_pass(z.values, alpha_trained, beta_trained),axis=1)\n",
    "    df=(df-pd.Series(Ytest)).apply(lambda z: np.abs(z))\n",
    "    predictions=pd.concat([predictions,pd.DataFrame({'rho': [rho], 'test_error': [df.mean()]})],sort=False)\n"
   ]
  },
  {
   "cell_type": "code",
   "execution_count": 23,
   "metadata": {},
   "outputs": [
    {
     "data": {
      "text/plain": [
       "Text(0, 0.5, 'Training/Test Error')"
      ]
     },
     "execution_count": 23,
     "metadata": {},
     "output_type": "execute_result"
    },
    {
     "data": {
      "image/png": "[encoded data removed]",
      "text/plain": [
       "<Figure size 360x360 with 1 Axes>"
      ]
     },
     "metadata": {
      "needs_background": "light"
     },
     "output_type": "display_data"
    }
   ],
   "source": [
    "fig=plt.figure(figsize=(5., 5.))\n",
    "plt.plot(results['rho'],results['training_error'],c='blue')\n",
    "plt.plot(predictions['rho'],predictions['test_error'],c='red')\n",
    "plt.xlabel('Wight decay param') \n",
    "plt.ylabel('Training/Test Error')"
   ]
  },
  {
   "cell_type": "code",
   "execution_count": null,
   "metadata": {},
   "outputs": [],
   "source": [
    "## B.4 Discuss the overfitting behavior in each case."
   ]
  },
  {
   "cell_type": "code",
   "execution_count": null,
   "metadata": {},
   "outputs": [],
   "source": [
    "## C. Vary the number of hidden units in the network, from 1 up to 10, and\n",
    "## determine the minimum number needed to perform well for this task."
   ]
  }
 ],
 "metadata": {
  "kernelspec": {
   "display_name": "Python 3",
   "language": "python",
   "name": "python3"
  },
  "language_info": {
   "codemirror_mode": {
    "name": "ipython",
    "version": 3
   },
   "file_extension": ".py",
   "mimetype": "text/x-python",
   "name": "python",
   "nbconvert_exporter": "python",
   "pygments_lexer": "ipython3",
   "version": "3.7.4"
  }
 },
 "nbformat": 4,
 "nbformat_minor": 2
}
